{
 "cells": [
  {
   "cell_type": "markdown",
   "metadata": {},
   "source": [
    "# Build your own concordance\n",
    "\n",
    "It took 500 Dominican munks to write the first concordance of the Latin bible, and it took Rabbi Mordecai Nathan 10 years to write the first concordance of the Hebrew bible. With Python, it only takes a matter of seconds to find words in a text, along with the surrounding words.\n",
    "\n",
    "Run each cell in this notebook one at a time, in order. If something in one cell doesn't work right, it might be because you have overwritten a variable, so try going back and running all the previous cells again.\n",
    "\n",
    "First run the code and check that everything works. Then, try modifying the code. Start with the first challenges, and then continue in order. Feel free to work together, and see how far you can get. The important thing is to learn, not to solve all the challenges!"
   ]
  },
  {
   "cell_type": "code",
   "execution_count": 1,
   "metadata": {},
   "outputs": [
    {
     "name": "stdout",
     "output_type": "stream",
     "text": [
      "Defaulting to user installation because normal site-packages is not writeable\n",
      "Requirement already satisfied: nltk in /home/ucloud/.local/lib/python3.12/site-packages (3.9.1)\n",
      "Requirement already satisfied: click in /usr/lib/python3/dist-packages (from nltk) (8.1.6)\n",
      "Requirement already satisfied: joblib in /home/ucloud/.local/lib/python3.12/site-packages (from nltk) (1.4.2)\n",
      "Requirement already satisfied: regex>=2021.8.3 in /home/ucloud/.local/lib/python3.12/site-packages (from nltk) (2024.9.11)\n",
      "Requirement already satisfied: tqdm in /home/ucloud/.local/lib/python3.12/site-packages (from nltk) (4.66.5)\n",
      "Note: you may need to restart the kernel to use updated packages.\n"
     ]
    }
   ],
   "source": [
    "%pip install nltk # install the natural language toolkit package (nltk), which has a copy of several texts, including the King James Bible"
   ]
  },
  {
   "cell_type": "code",
   "execution_count": 2,
   "metadata": {},
   "outputs": [
    {
     "name": "stderr",
     "output_type": "stream",
     "text": [
      "[nltk_data] Downloading package gutenberg to /home/ucloud/nltk_data...\n",
      "[nltk_data]   Package gutenberg is already up-to-date!\n"
     ]
    },
    {
     "data": {
      "text/plain": [
       "True"
      ]
     },
     "execution_count": 2,
     "metadata": {},
     "output_type": "execute_result"
    }
   ],
   "source": [
    "import nltk # import the nltk package so that it is accessible to Python, and download a collection of texts from Project Gutenberg\n",
    "nltk.download('gutenberg')"
   ]
  },
  {
   "cell_type": "code",
   "execution_count": 3,
   "metadata": {},
   "outputs": [],
   "source": [
    "# Create a variable called \"bible\" which contains the text of the King James bible.\n",
    "bible = nltk.corpus.gutenberg.raw('bible-kjv.txt')\n",
    "\n",
    "# make all characters lowercase\n",
    "bible = bible.lower()\n",
    "\n",
    "# remove the \"\\n\" characters, which indicate line breaks in the text (newlines)\n",
    "bible = bible.replace('\\n', ' ')\n",
    "\n",
    "# split up the text into a long list of individual words\n",
    "bible = bible.split(' ')"
   ]
  },
  {
   "cell_type": "code",
   "execution_count": 4,
   "metadata": {},
   "outputs": [],
   "source": [
    "# make a variable called \"concordance\", and fill it with every occurrence of the phrase \"this world\", and a few words preceeding and following \"this world\"\n",
    "concordance = []\n",
    "for i, word in enumerate(bible):\n",
    "    if word == \"world\":\n",
    "        if bible[i-1] == \"this\":\n",
    "            concordance.append(str(' '.join(bible[i-5:i+5])))"
   ]
  },
  {
   "cell_type": "code",
   "execution_count": 5,
   "metadata": {},
   "outputs": [
    {
     "data": {
      "text/plain": [
       "['for the children of this world are in their generation',\n",
       " 'them, the children of this world marry, and are given',\n",
       " 'hateth his life in this world shall keep it unto',\n",
       " 'shall the prince of this world be cast out. ',\n",
       " 'should depart out of this world unto the father, having',\n",
       " 'for the prince of this world cometh, and hath nothing',\n",
       " 'because the prince of this world is judged.  16:12',\n",
       " 'of the princes of this world knew: for had they',\n",
       " 'for the wisdom of this world is foolishness with god.',\n",
       " 'for the fashion of this world passeth away.  7:32',\n",
       " 'whom the god of this world hath blinded the minds',\n",
       " 'chosen the poor of this world rich in faith, and',\n",
       " 'saying, the kingdoms of this world are become the kingdoms']"
      ]
     },
     "execution_count": 5,
     "metadata": {},
     "output_type": "execute_result"
    }
   ],
   "source": [
    "# take a look at what the algorithm has found\n",
    "concordance"
   ]
  },
  {
   "cell_type": "code",
   "execution_count": 6,
   "metadata": {},
   "outputs": [
    {
     "data": {
      "text/plain": [
       "13"
      ]
     },
     "execution_count": 6,
     "metadata": {},
     "output_type": "execute_result"
    }
   ],
   "source": [
    "# let's see how many instances of the phrase \"this world\" were found\n",
    "len(concordance)"
   ]
  },
  {
   "cell_type": "markdown",
   "metadata": {},
   "source": [
    "Let's try again, but this time let's just search for \"world\" by itself, not \"this world\"."
   ]
  },
  {
   "cell_type": "code",
   "execution_count": 7,
   "metadata": {},
   "outputs": [],
   "source": [
    "concordance = []\n",
    "for i, word in enumerate(bible):\n",
    "    if word == \"world\":\n",
    "        concordance.append(str(' '.join(bible[i-5:i+5])))"
   ]
  },
  {
   "cell_type": "code",
   "execution_count": 8,
   "metadata": {},
   "outputs": [
    {
     "data": {
      "text/plain": [
       "['and he hath set the world upon them.  2:9',\n",
       " 'appeared, the foundations of the world were discovered, at the',\n",
       " 'him, all the earth: the world also shall be stable,',\n",
       " 'upon the face of the world in the earth. ',\n",
       " 'and he shall judge the world in righteousness, he shall',\n",
       " 'and the foundations of the world were discovered at thy',\n",
       " 'all the ends of the world shall remember and turn',\n",
       " 'all the inhabitants of the world stand in awe of',\n",
       " 'not tell thee: for the world is mine, and the',\n",
       " 'is thine: as for the world and the fulness thereof,',\n",
       " 'he hath girded himself: the world also is stablished, that',\n",
       " 'that the lord reigneth: the world also shall be established',\n",
       " 'earth: he shall judge the world with righteousness, and the',\n",
       " 'also he hath set the world in their heart, so',\n",
       " 'and i will punish the world for their evil, and',\n",
       " 'kingdoms; 14:17 that made the world as a wilderness, and',\n",
       " 'fill the face of the world with cities.  14:22',\n",
       " 'all the kingdoms of the world upon the face of',\n",
       " 'mourneth and fadeth away, the world languisheth and fadeth away,',\n",
       " 'earth, the inhabitants of the world will learn righteousness. ',\n",
       " 'have the inhabitants of the world fallen.  26:19 thy',\n",
       " 'fill the face of the world with fruit.  27:7',\n",
       " 'not be ashamed nor confounded world without end.  45:18',\n",
       " 'since the beginning of the world men have not heard,',\n",
       " 'power, he hath established the world by his wisdom, and',\n",
       " 'power, he hath established the world by his wisdom, and',\n",
       " 'this world, neither in the world to come.  12:33',\n",
       " ' 18:7 woe unto the world because of offences! for',\n",
       " 'be preached in all the world for a witness unto',\n",
       " 'since the beginning of the world to this time, no,',\n",
       " 'with persecutions; and in the world to come eternal life.',\n",
       " 'which have been since the world began: 1:71 that we',\n",
       " 'caesar augustus that all the world should be taxed. ',\n",
       " 'all the kingdoms of the world in a moment of',\n",
       " 'do the nations of the world seek after: and your',\n",
       " 'for the children of this world are in their generation',\n",
       " 'present time, and in the world to come life everlasting.',\n",
       " 'them, the children of this world marry, and are given',\n",
       " 'in the world, and the world was made by him,',\n",
       " 'made by him, and the world knew him not. ',\n",
       " 'not his son into the world to condemn the world;',\n",
       " 'the world; but that the world through him might be',\n",
       " 'alway ready.  7:7 the world cannot hate you; but',\n",
       " 'and i speak to the world those things which i',\n",
       " 'heareth.  9:32 since the world began was it not',\n",
       " 'ye prevail nothing? behold, the world is gone after him.',\n",
       " 'hateth his life in this world shall keep it unto',\n",
       " 'shall the prince of this world be cast out. ',\n",
       " 'should depart out of this world unto the father, having',\n",
       " 'spirit of truth; whom the world cannot receive, because it',\n",
       " 'a little while, and the world seeth me no more;',\n",
       " 'unto you: not as the world giveth, give i unto',\n",
       " 'for the prince of this world cometh, and hath nothing',\n",
       " ' 14:31 but that the world may know that i',\n",
       " 'another.  15:18 if the world hate you, ye know',\n",
       " 'were of the world, the world would love his own:',\n",
       " 'of the world, therefore the world hateth you.  15:20',\n",
       " 'come, he will reprove the world of sin, and of',\n",
       " 'because the prince of this world is judged.  16:12',\n",
       " 'weep and lament, but the world shall rejoice: and ye',\n",
       " 'have peace.  in the world ye shall have tribulation:',\n",
       " 'had with thee before the world was.  17:6 i',\n",
       " 'them thy word; and the world hath hated them, because',\n",
       " 'one in us: that the world may believe that thou',\n",
       " 'in one; and that the world may know that thou',\n",
       " '17:25 o righteous father, the world hath not known thee:',\n",
       " 'i suppose that even the world itself could not contain',\n",
       " 'his holy prophets since the world began.  3:22 for',\n",
       " 'these that have turned the world upside down are come',\n",
       " '17:24 god that made the world and all things therein,',\n",
       " 'which he will judge the world in righteousness by that',\n",
       " 'whom all asia and the world worshippeth.  19:28 and',\n",
       " 'from the creation of the world are clearly seen, being',\n",
       " 'be stopped, and all the world may become guilty before',\n",
       " 'was kept secret since the world began, 16:26 but now',\n",
       " 'the wisdom of god the world by wisdom knew not',\n",
       " 'the foolish things of the world to confound the wise;',\n",
       " 'the weak things of the world to confound the things',\n",
       " 'which god ordained before the world unto our glory: 2:8',\n",
       " 'of the princes of this world knew: for had they',\n",
       " 'for the wisdom of this world is foolishness with god.',\n",
       " 'the world? and if the world shall be judged by',\n",
       " 'for the fashion of this world passeth away.  7:32',\n",
       " 'eat no flesh while the world standeth, lest i make',\n",
       " 'whom the ends of the world are come.  10:12',\n",
       " 'whom the god of this world hath blinded the minds',\n",
       " 'was in christ, reconciling the world unto himself, not imputing',\n",
       " 'but the sorrow of the world worketh death.  7:11',\n",
       " 'jesus christ, by whom the world is crucified unto me,',\n",
       " 'from the beginning of the world hath been hid in',\n",
       " 'christ jesus throughout all ages, world without end. amen. ',\n",
       " 'christ jesus came into the world to save sinners; of',\n",
       " 'in christ jesus before the world began, 1:10 but is',\n",
       " 'cannot lie, promised before the world began; 1:3 but hath',\n",
       " 'not put in subjection the world to come, whereof we',\n",
       " 'and the powers of the world to come, 6:6 if',\n",
       " 'in the end of the world hath he appeared to',\n",
       " 'tormented; 11:38 (of whom the world was not worthy:) they',\n",
       " 'chosen the poor of this world rich in faith, and',\n",
       " 'tongue is a fire, a world of iniquity: so is',\n",
       " 'that the friendship of the world is enmity with god?',\n",
       " 'be a friend of the world is the enemy of',\n",
       " 'corruption that is in the world through lust.  1:5',\n",
       " 'in the flood upon the world of the ungodly; 2:6',\n",
       " 'escaped the pollutions of the world through the knowledge of',\n",
       " 'the water: 3:6 whereby the world that then was, being',\n",
       " 'world.  2:17 and the world passeth away, and the',\n",
       " 'sons of god: therefore the world knoweth us not, because',\n",
       " 'not, my brethren, if the world hate you.  3:14',\n",
       " 'of the world, and the world heareth them.  4:6',\n",
       " 'of god, and the whole world lieth in wickedness. ',\n",
       " 'saying, the kingdoms of this world are become the kingdoms',\n",
       " 'was healed: and all the world wondered after the beast.']"
      ]
     },
     "execution_count": 8,
     "metadata": {},
     "output_type": "execute_result"
    }
   ],
   "source": [
    "# take a look at what the algorithm has found\n",
    "concordance"
   ]
  },
  {
   "cell_type": "code",
   "execution_count": 9,
   "metadata": {},
   "outputs": [
    {
     "data": {
      "text/plain": [
       "113"
      ]
     },
     "execution_count": 9,
     "metadata": {},
     "output_type": "execute_result"
    }
   ],
   "source": [
    "# let's see how many instances of just the word \"world\" were found\n",
    "len(concordance)"
   ]
  },
  {
   "cell_type": "markdown",
   "metadata": {},
   "source": [
    "Now, in the cell below, modify the code to search for a different word."
   ]
  },
  {
   "cell_type": "code",
   "execution_count": 10,
   "metadata": {},
   "outputs": [
    {
     "data": {
      "text/plain": [
       "['servant to me; that his wrath was kindled.  39:20',\n",
       " 'their cry; 22:24 and my wrath shall wax hot, and',\n",
       " 'let me alone, that my wrath may wax hot against',\n",
       " 'said, lord, why doth thy wrath wax hot against thy',\n",
       " 'lest ye die, and lest wrath come upon all the',\n",
       " 'testimony, that there be no wrath upon the congregation of',\n",
       " 'ere it was chewed, the wrath of the lord was',\n",
       " 'for them: for there is wrath gone out from the',\n",
       " 'altar: that there be no wrath any more upon the',\n",
       " 'the priest, hath turned my wrath away from the children',\n",
       " 'the lord thy god to wrath in the wilderness: from',\n",
       " \"11:17 and then the lord's wrath be kindled against you,\",\n",
       " 'not that i feared the wrath of the enemy, lest',\n",
       " 'even let them live, lest wrath be upon us, because',\n",
       " 'in the accursed thing, and wrath fell on all the',\n",
       " 'lord, nor executedst his fierce wrath upon amalek, therefore hath',\n",
       " \"so be that the king's wrath arise, and he say\",\n",
       " 'found: for great is the wrath of the lord that',\n",
       " 'of their hands; therefore my wrath shall be kindled against',\n",
       " 'finished not, because there fell wrath for it against israel;',\n",
       " 'them some deliverance; and my wrath shall not be poured',\n",
       " 'when he humbled himself, the wrath of the lord turned',\n",
       " 'hate the lord? therefore is wrath upon thee from before',\n",
       " 'against the lord, and so wrath come upon you, and',\n",
       " 'served groves and idols: and wrath came upon judah and',\n",
       " 'your brethren: for the fierce wrath of the lord is',\n",
       " 'great, and there is fierce wrath against israel.  28:14',\n",
       " 'israel.  29:8 wherefore the wrath of the lord was',\n",
       " 'of israel, that his fierce wrath may turn away from',\n",
       " 'that the fierceness of his wrath may turn away from',\n",
       " 'lifted up: therefore there was wrath upon him, and upon',\n",
       " 'of jerusalem, so that the wrath of the lord came',\n",
       " 'found: for great is the wrath of the lord that',\n",
       " 'of their hands; therefore my wrath shall be poured out',\n",
       " 'misused his prophets, until the wrath of the lord arose',\n",
       " 'for why should there be wrath against the realm of',\n",
       " 'but his power and his wrath is against all them',\n",
       " 'judges thereof, until the fierce wrath of our god for',\n",
       " 'city? yet ye bring more wrath upon israel by profaning',\n",
       " 'after these things, when the wrath of king ahasuerus was',\n",
       " 'banquet of wine in his wrath went into the palace',\n",
       " \"mordecai. then was the king's wrath pacified.  8:1 on\",\n",
       " 'thou turn?  5:2 for wrath killeth the foolish man,',\n",
       " 'keep me secret, until thy wrath be past, that thou',\n",
       " 'he hath also kindled his wrath against me, and he',\n",
       " 'afraid of the sword: for wrath bringeth the punishments of',\n",
       " 'cast the fury of his wrath upon him, and shall',\n",
       " 'he shall drink of the wrath of the almighty. ',\n",
       " '32:2 then was kindled the wrath of elihu the son',\n",
       " 'ram: against job was his wrath kindled, because he justified',\n",
       " 'his three friends was his wrath kindled, because they had',\n",
       " 'these three men, then his wrath was kindled.  32:6',\n",
       " 'to eliphaz the temanite, my wrath is kindled against thee,',\n",
       " 'from the way, when his wrath is kindled but a',\n",
       " 'iniquity upon me, and in wrath they hate me. ',\n",
       " 'selah.  76:10 surely the wrath of man shall praise',\n",
       " 'praise thee: the remainder of wrath shalt thou restrain. ',\n",
       " 'their mouths,  78:31 the wrath of god came upon',\n",
       " ' 79:6 pour out thy wrath upon the heathen that',\n",
       " 'the deeps.  88:7 thy wrath lieth hard upon me,',\n",
       " 'distracted.  88:16 thy fierce wrath goeth over me; thy',\n",
       " 'thyself for ever? shall thy wrath burn like fire? ',\n",
       " 'thine anger, and by thy wrath are we troubled. ',\n",
       " 'whom i sware in my wrath that they should not',\n",
       " ' 106:40 therefore was the wrath of the lord kindled',\n",
       " 'us up quick, when their wrath was kindled against us:',\n",
       " 'forth thine hand against the wrath of mine enemies, and',\n",
       " \"wise.  12:16 a fool's wrath is presently known: but\",\n",
       " 'he that is slow to wrath is of great understanding:',\n",
       " 'a wise servant: but his wrath is against him that',\n",
       " 'speaketh right.  16:14 the wrath of a king is',\n",
       " \"transgression.  19:12 the king's wrath is as the roaring\",\n",
       " '19:19 a man of great wrath shall suffer punishment: for',\n",
       " 'and he turn away his wrath from him.  24:19',\n",
       " \"sand weighty; but a fool's wrath is heavier than them\",\n",
       " 'than them both.  27:4 wrath is cruel, and anger',\n",
       " 'blood: so the forcing of wrath bringeth forth strife. ',\n",
       " 'he hath much sorrow and wrath with his sickness. ',\n",
       " 'smoke.  9:19 through the wrath of the lord of',\n",
       " 'against the people of my wrath will i give him',\n",
       " 'lord cometh, cruel both with wrath and fierce anger, to',\n",
       " 'of her place, in the wrath of the lord of',\n",
       " 'who smote the people in wrath with a continual stroke,',\n",
       " ' 54:8 in a little wrath i hid my face',\n",
       " 'unto thee: for in my wrath i smote thee, but',\n",
       " 'an everlasting king: at his wrath the earth shall tremble,',\n",
       " 'and to turn away thy wrath from them.  18:21',\n",
       " 'that ye provoke me unto wrath with the works of',\n",
       " ' 50:13 because of the wrath of the lord it',\n",
       " 'hath thrown down in his wrath the strong holds of',\n",
       " 'nor the seller mourn: for wrath is upon all the',\n",
       " 'to the battle: for my wrath is upon all the',\n",
       " 'in the day of the wrath of the lord: they',\n",
       " 'thus will i accomplish my wrath upon the wall, and',\n",
       " 'in the fire of my wrath have i spoken, surely',\n",
       " 'i will pour out my wrath upon them like water.',\n",
       " 'perpetually, and he kept his wrath for ever: 1:12 but',\n",
       " 'his adversaries, and he reserveth wrath for his enemies. ',\n",
       " 'the years make known; in wrath remember mercy.  3:3',\n",
       " 'against the rivers? was thy wrath against the sea, that',\n",
       " 'prophets: therefore came a great wrath from the lord of',\n",
       " 'you to flee from the wrath to come?  3:8',\n",
       " 'you to flee from the wrath to come?  3:8',\n",
       " 'distress in the land, and wrath upon this people. ',\n",
       " 'not see life; but the wrath of god abideth on',\n",
       " 'faith.  1:18 for the wrath of god is revealed',\n",
       " 'heart treasurest up unto thyself wrath against the day of',\n",
       " 'wrath against the day of wrath and revelation of the',\n",
       " 'we shall be saved from wrath through him.  5:10',\n",
       " 'much longsuffering the vessels of wrath fitted to destruction: 9:23',\n",
       " 'god, a revenger to execute wrath upon him that doeth',\n",
       " 'of these things cometh the wrath of god upon the',\n",
       " \"for which things' sake the wrath of god cometh on\",\n",
       " 'which delivered us from the wrath to come.  2:1',\n",
       " 'their sins alway: for the wrath is come upon them',\n",
       " 'lifting up holy hands, without wrath and doubting.  2:9',\n",
       " 'forsook egypt, not fearing the wrath of the king: for',\n",
       " 'to wrath: 1:20 for the wrath of man worketh not',\n",
       " 'the throne, and from the wrath of the lamb: 6:17',\n",
       " 'the great day of his wrath is come; and who',\n",
       " 'nations were angry, and thy wrath is come, and the',\n",
       " 'of the wine of the wrath of her fornication. ',\n",
       " 'of the wine of the wrath of god, which is',\n",
       " 'the great winepress of the wrath of god.  14:20',\n",
       " 'them is filled up the wrath of god.  15:2',\n",
       " 'golden vials full of the wrath of god, who liveth',\n",
       " 'out the vials of the wrath of god upon the',\n",
       " 'of the wine of the wrath of her fornication, and',\n",
       " 'winepress of the fierceness and wrath of almighty god. ']"
      ]
     },
     "execution_count": 10,
     "metadata": {},
     "output_type": "execute_result"
    }
   ],
   "source": [
    "def concordance_search(target_token):\n",
    "    return [\" \".join(bible[index - 5:index + 5]) for index, word in enumerate(bible) if word == target_token]\n",
    "\n",
    "concordance_search(\"wrath\")"
   ]
  },
  {
   "cell_type": "markdown",
   "metadata": {},
   "source": [
    "The nltk package has the full text of several other classic books. You can see what they are called by running the command in the cell below:"
   ]
  },
  {
   "cell_type": "code",
   "execution_count": 11,
   "metadata": {},
   "outputs": [
    {
     "data": {
      "text/plain": [
       "['austen-emma.txt',\n",
       " 'austen-persuasion.txt',\n",
       " 'austen-sense.txt',\n",
       " 'bible-kjv.txt',\n",
       " 'blake-poems.txt',\n",
       " 'bryant-stories.txt',\n",
       " 'burgess-busterbrown.txt',\n",
       " 'carroll-alice.txt',\n",
       " 'chesterton-ball.txt',\n",
       " 'chesterton-brown.txt',\n",
       " 'chesterton-thursday.txt',\n",
       " 'edgeworth-parents.txt',\n",
       " 'melville-moby_dick.txt',\n",
       " 'milton-paradise.txt',\n",
       " 'shakespeare-caesar.txt',\n",
       " 'shakespeare-hamlet.txt',\n",
       " 'shakespeare-macbeth.txt',\n",
       " 'whitman-leaves.txt']"
      ]
     },
     "execution_count": 11,
     "metadata": {},
     "output_type": "execute_result"
    }
   ],
   "source": [
    "nltk.corpus.gutenberg.fileids()"
   ]
  },
  {
   "cell_type": "markdown",
   "metadata": {},
   "source": [
    "## Your turn!\n",
    "\n",
    "Here are a some more things you can try. In each case, I have given you a little bit of starter code to get you going, but the cells will not run without some additional code from you.\n"
   ]
  },
  {
   "cell_type": "markdown",
   "metadata": {},
   "source": [
    "\n",
    "\n",
    "## Challenge 1: build your own concordance\n",
    "\n",
    "Pick a different book and a different word, or pair of words. Copy and paste from the code above to write some Python code that searches the book of your choice for the word or pair of words of your choice. Put this code in the cell below. By the way, some of the texts use the characters \"\\r\" for \"carriage return\" instead of \"\\n\" for \"newline\". You can remove these the same way that you remove the \"\\n\" characters."
   ]
  },
  {
   "cell_type": "code",
   "execution_count": 12,
   "metadata": {},
   "outputs": [
    {
     "data": {
      "text/plain": [
       "['in a nutshell, and count my selfe a king of infinite space; were it not that i haue bad dreames',\n",
       " 'of worke is a man! how noble in reason? how infinite in faculty? in forme and mouing how expresse and',\n",
       " 'alas poore yorick, i knew him horatio, a fellow of infinite iest; of most excellent fancy, he hath borne me']"
      ]
     },
     "execution_count": 12,
     "metadata": {},
     "output_type": "execute_result"
    }
   ],
   "source": [
    "def preprocess_book(path):\n",
    "    return nltk.corpus.gutenberg.raw(path).lower().replace(\"\\n\", \" \").replace(\"\\r\", \" \").split(None)\n",
    "\n",
    "def concordance_search(target_token, context_window = 10, book = bible):\n",
    "    return [\" \".join(book[index - context_window // 2:index + context_window // 2]) for index, word in enumerate(book) if word == target_token]\n",
    "\n",
    "hamlet = preprocess_book(\"shakespeare-hamlet.txt\")\n",
    "concordance_search(\"infinite\", book = hamlet, context_window=20)"
   ]
  },
  {
   "cell_type": "markdown",
   "metadata": {},
   "source": [
    "## Challenge 2: compare lengths of books\n",
    "\n",
    "We can use the command `len` to find how many items there are in a list. E.g., to find the number of words in the list called `bible`, above, we can write: `len(bible)`. \n",
    "\n",
    "Use the starter code below to find out which book in the books included in `nltk` has the most words."
   ]
  },
  {
   "cell_type": "code",
   "execution_count": 13,
   "metadata": {},
   "outputs": [
    {
     "name": "stdout",
     "output_type": "stream",
     "text": [
      "austen-emma.txt                   158,167\n",
      "austen-persuasion.txt              83,308\n",
      "austen-sense.txt                  118,675\n",
      "bible-kjv.txt                     821,133\n",
      "blake-poems.txt                     6,845\n",
      "bryant-stories.txt                 45,988\n",
      "burgess-busterbrown.txt            15,870\n",
      "carroll-alice.txt                  26,443\n",
      "chesterton-ball.txt                81,598\n",
      "chesterton-brown.txt               71,626\n",
      "chesterton-thursday.txt            57,955\n",
      "edgeworth-parents.txt             166,070\n",
      "melville-moby_dick.txt            212,030\n",
      "milton-paradise.txt                79,659\n",
      "shakespeare-caesar.txt             20,459\n",
      "shakespeare-hamlet.txt             29,605\n",
      "shakespeare-macbeth.txt            17,741\n",
      "whitman-leaves.txt                122,070\n"
     ]
    }
   ],
   "source": [
    "# solution 1: print all the titles and numbers of words\n",
    "\n",
    "books = nltk.corpus.gutenberg.fileids()\n",
    "\n",
    "for title in books:\n",
    "    book = nltk.corpus.gutenberg.raw(title)\n",
    "    print(f\"{title:30} {len(book.split(None)):10,}\")\n"
   ]
  },
  {
   "cell_type": "code",
   "execution_count": 14,
   "metadata": {},
   "outputs": [
    {
     "name": "stdout",
     "output_type": "stream",
     "text": [
      "bible-kjv.txt                     821,133\n",
      "melville-moby_dick.txt            212,030\n",
      "edgeworth-parents.txt             166,070\n",
      "austen-emma.txt                   158,167\n",
      "whitman-leaves.txt                122,070\n",
      "austen-sense.txt                  118,675\n",
      "austen-persuasion.txt              83,308\n",
      "chesterton-ball.txt                81,598\n",
      "milton-paradise.txt                79,659\n",
      "chesterton-brown.txt               71,626\n",
      "chesterton-thursday.txt            57,955\n",
      "bryant-stories.txt                 45,988\n",
      "shakespeare-hamlet.txt             29,605\n",
      "carroll-alice.txt                  26,443\n",
      "shakespeare-caesar.txt             20,459\n",
      "shakespeare-macbeth.txt            17,741\n",
      "burgess-busterbrown.txt            15,870\n",
      "blake-poems.txt                     6,845\n"
     ]
    }
   ],
   "source": [
    "# more advanced, for those with some Python experience, or those who want to google around..\n",
    "# solution 2: make a list of titles and a list of wordcounts, zip them together, then sort them based on wordcount\n",
    "\n",
    "book_lengths = [(title, len(nltk.corpus.gutenberg.raw(title).split(None))) for title in books]\n",
    "for title, length in sorted(book_lengths, key=lambda item: item[1], reverse = True):\n",
    "     print(f\"{title:30} {length:10,}\")\n"
   ]
  },
  {
   "cell_type": "markdown",
   "metadata": {},
   "source": [
    "## Challenge 3: what are the most frequent words?\n",
    "\n",
    "`nltk` has a built-in function called `FreqDist` which counts up how many times each word in a text occurs. So, if you have a list called `words` which contains all the words in a book, you can find the frequencies of all of them by writing `freq = nltk.FreqDist(words)`. You can then get the e.g. ten most common words by writing `freq.most_common(10)`. What are the ten most common words in Jane Austen's \"Emma\"? What about Herman Melville's \"Moby Dick\"?"
   ]
  },
  {
   "cell_type": "code",
   "execution_count": 15,
   "metadata": {},
   "outputs": [
    {
     "data": {
      "text/plain": [
       "[('the', 5120),\n",
       " ('to', 5079),\n",
       " ('and', 4445),\n",
       " ('of', 4196),\n",
       " ('a', 3055),\n",
       " ('i', 2602),\n",
       " ('was', 2302),\n",
       " ('she', 2169),\n",
       " ('in', 2091),\n",
       " ('not', 2028)]"
      ]
     },
     "execution_count": 15,
     "metadata": {},
     "output_type": "execute_result"
    }
   ],
   "source": [
    "emma = preprocess_book(\"austen-emma.txt\")\n",
    "\n",
    "nltk.FreqDist(emma).most_common(10)"
   ]
  },
  {
   "cell_type": "code",
   "execution_count": 16,
   "metadata": {},
   "outputs": [
    {
     "data": {
      "text/plain": [
       "[('the', 14226),\n",
       " ('of', 6545),\n",
       " ('and', 6238),\n",
       " ('a', 4597),\n",
       " ('to', 4518),\n",
       " ('in', 4058),\n",
       " ('that', 2744),\n",
       " ('his', 2485),\n",
       " ('it', 1765),\n",
       " ('i', 1724)]"
      ]
     },
     "execution_count": 16,
     "metadata": {},
     "output_type": "execute_result"
    }
   ],
   "source": [
    "moby_dick = preprocess_book(\"melville-moby_dick.txt\")\n",
    "\n",
    "nltk.FreqDist(moby_dick).most_common(10)"
   ]
  },
  {
   "cell_type": "markdown",
   "metadata": {},
   "source": [
    "## Challenge 4: Remove stopwords\n",
    "\n",
    "Often, the most frequent words are not the most interesting ones. Words like \"a\" and \"the\" are so common in English, that they don't really tell us much about the text. That is why we often remove \"stopwords\", that is, a list of the most common words in English, before e.g. counting frequencies. There are several of these lists available, in [English]((https://gist.github.com/sebleier/554280)) as well as other languages, such as [Danish](https://gist.github.com/berteltorp/0cf8a0c7afea7f25ed754f24cfc2467b). Below is some starter code to remove stopwords. Use these snippets to see what the most common words in Emma and Moby Dick are after removing these most common words.\n",
    "\n",
    "Hint: In Moby Dick, you will also have to remove the string `\\r`, in addition to removing `\\n`."
   ]
  },
  {
   "cell_type": "code",
   "execution_count": 17,
   "metadata": {},
   "outputs": [],
   "source": [
    "# list of stopwords\n",
    "stopwords = [\"\", \"i\", \"me\", \"my\", \"myself\", \"we\", \"our\", \"ours\", \"ourselves\", \"you\", \"your\", \"yours\", \"yourself\", \"yourselves\", \"he\", \"him\", \"his\", \"himself\", \"she\", \"her\", \"hers\", \"herself\", \"it\", \"its\", \"itself\", \"they\", \"them\", \"their\", \"theirs\", \"themselves\", \"what\", \"which\", \"who\", \"whom\", \"this\", \"that\", \"these\", \"those\", \"am\", \"is\", \"are\", \"was\", \"were\", \"be\", \"been\", \"being\", \"have\", \"has\", \"had\", \"having\", \"do\", \"does\", \"did\", \"doing\", \"a\", \"an\", \"the\", \"and\", \"but\", \"if\", \"or\", \"because\", \"as\", \"until\", \"while\", \"of\", \"at\", \"by\", \"for\", \"with\", \"about\", \"against\", \"between\", \"into\", \"through\", \"during\", \"before\", \"after\", \"above\", \"below\", \"to\", \"from\", \"up\", \"down\", \"in\", \"out\", \"on\", \"off\", \"over\", \"under\", \"again\", \"further\", \"then\", \"once\", \"here\", \"there\", \"when\", \"where\", \"why\", \"how\", \"all\", \"any\", \"both\", \"each\", \"few\", \"more\", \"most\", \"other\", \"some\", \"such\", \"no\", \"nor\", \"not\", \"only\", \"own\", \"same\", \"so\", \"than\", \"too\", \"very\", \"s\", \"t\", \"can\", \"will\", \"just\", \"don\", \"should\", \"now\"]"
   ]
  },
  {
   "cell_type": "code",
   "execution_count": 18,
   "metadata": {},
   "outputs": [
    {
     "data": {
      "text/plain": [
       "[('mr.', 1097),\n",
       " ('could', 800),\n",
       " ('would', 795),\n",
       " ('mrs.', 675),\n",
       " ('miss', 568),\n",
       " ('must', 543),\n",
       " ('emma', 481),\n",
       " ('much', 427),\n",
       " ('every', 425),\n",
       " ('said', 392)]"
      ]
     },
     "execution_count": 18,
     "metadata": {},
     "output_type": "execute_result"
    }
   ],
   "source": [
    "nltk.FreqDist([word for word in emma if word not in stopwords]).most_common(10)"
   ]
  },
  {
   "cell_type": "code",
   "execution_count": 19,
   "metadata": {},
   "outputs": [
    {
     "data": {
      "text/plain": [
       "[('one', 779),\n",
       " ('like', 564),\n",
       " ('upon', 556),\n",
       " ('whale', 528),\n",
       " ('old', 425),\n",
       " ('would', 416),\n",
       " ('though', 311),\n",
       " ('great', 292),\n",
       " ('still', 282),\n",
       " ('seemed', 273)]"
      ]
     },
     "execution_count": 19,
     "metadata": {},
     "output_type": "execute_result"
    }
   ],
   "source": [
    "nltk.FreqDist([word for word in moby_dick if word not in stopwords]).most_common(10)"
   ]
  }
 ],
 "metadata": {
  "kernelspec": {
   "display_name": "venv_kernel",
   "language": "python",
   "name": "venv_kernel"
  },
  "language_info": {
   "codemirror_mode": {
    "name": "ipython",
    "version": 3
   },
   "file_extension": ".py",
   "mimetype": "text/x-python",
   "name": "python",
   "nbconvert_exporter": "python",
   "pygments_lexer": "ipython3",
   "version": "3.12.3"
  }
 },
 "nbformat": 4,
 "nbformat_minor": 4
}
